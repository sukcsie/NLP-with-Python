{
 "cells": [
  {
   "cell_type": "markdown",
   "metadata": {},
   "source": [
    "#### This notebook guides you through the basic text processing steps required for feeding text into neural network architecture\n",
    "It covers `tokenization`, converting into `sequences`, and `padding`."
   ]
  },
  {
   "cell_type": "code",
   "execution_count": 13,
   "metadata": {},
   "outputs": [],
   "source": [
    "# import libraries\n",
    "import tensorflow as tf\n",
    "from tensorflow import keras\n",
    "from tensorflow.keras.preprocessing.text import Tokenizer\n",
    "from tensorflow.keras.preprocessing.sequence import pad_sequences"
   ]
  },
  {
   "cell_type": "markdown",
   "metadata": {},
   "source": [
    "Sample sentence"
   ]
  },
  {
   "cell_type": "code",
   "execution_count": 8,
   "metadata": {},
   "outputs": [],
   "source": [
    "sentences = [\n",
    "                \"Penny bought bright blue fishes.\",\n",
    "                \"Penny bought bright blue and orange fish.\",\n",
    "                \"The cat ate a fish at the store.\",\n",
    "                \"Penny went to the store. Penny ate a bug. Penny saw a fish.\",\n",
    "                \"It meowed once at the bug, it is still meowing at the bug and the fish\",\n",
    "                \"The cat is at the fish store. The cat is orange. The cat is meowing at the fish.\",\n",
    "                \"Penny is a fish\"\n",
    "            ]"
   ]
  },
  {
   "cell_type": "code",
   "execution_count": 9,
   "metadata": {},
   "outputs": [
    {
     "name": "stdout",
     "output_type": "stream",
     "text": [
      "{'<OOV>': 1, 'the': 2, 'fish': 3, 'penny': 4, 'at': 5, 'is': 6, 'cat': 7, 'a': 8, 'store': 9, 'bug': 10, 'bought': 11, 'bright': 12, 'blue': 13, 'and': 14, 'orange': 15, 'ate': 16, 'it': 17, 'meowing': 18, 'fishes': 19, 'went': 20, 'to': 21, 'saw': 22, 'meowed': 23, 'once': 24, 'still': 25}\n"
     ]
    }
   ],
   "source": [
    "# tokenization\n",
    "tokenizer =  Tokenizer(num_words=100, oov_token=\"<OOV>\")\n",
    "tokenizer.fit_on_texts(sentences)\n",
    "word_index = tokenizer.word_index\n",
    "print(word_index)"
   ]
  },
  {
   "cell_type": "code",
   "execution_count": 16,
   "metadata": {},
   "outputs": [
    {
     "name": "stdout",
     "output_type": "stream",
     "text": [
      "[[4, 11, 12, 13, 19], [4, 11, 12, 13, 14, 15, 3], [2, 7, 16, 8, 3, 5, 2, 9], [4, 20, 21, 2, 9, 4, 16, 8, 10, 4, 22, 8, 3], [17, 23, 24, 5, 2, 10, 17, 6, 25, 18, 5, 2, 10, 14, 2, 3], [2, 7, 6, 5, 2, 3, 9, 2, 7, 6, 15, 2, 7, 6, 18, 5, 2, 3], [4, 6, 8, 3]]\n"
     ]
    }
   ],
   "source": [
    "# converting the text into sequences\n",
    "# <OOV> refers to out of vocabulary\n",
    "sequences = tokenizer.texts_to_sequences(sentences)\n",
    "print(sequences)"
   ]
  },
  {
   "cell_type": "code",
   "execution_count": 17,
   "metadata": {},
   "outputs": [
    {
     "name": "stdout",
     "output_type": "stream",
     "text": [
      "[[ 4 11 12 13 19  0  0  0  0  0]\n",
      " [ 4 11 12 13 14 15  3  0  0  0]\n",
      " [ 2  7 16  8  3  5  2  9  0  0]\n",
      " [ 4 20 21  2  9  4 16  8 10  4]\n",
      " [17 23 24  5  2 10 17  6 25 18]\n",
      " [ 2  7  6  5  2  3  9  2  7  6]\n",
      " [ 4  6  8  3  0  0  0  0  0  0]]\n"
     ]
    }
   ],
   "source": [
    "#padding\n",
    "# before feeding into your neural network architecture, you should ideally have the same vector \n",
    "padded = pad_sequences(sequences, padding=\"post\", truncating=\"post\", maxlen=10)\n",
    "print(padded)"
   ]
  },
  {
   "cell_type": "code",
   "execution_count": null,
   "metadata": {},
   "outputs": [],
   "source": []
  }
 ],
 "metadata": {
  "kernelspec": {
   "display_name": "Python 3",
   "language": "python",
   "name": "python3"
  },
  "language_info": {
   "codemirror_mode": {
    "name": "ipython",
    "version": 3
   },
   "file_extension": ".py",
   "mimetype": "text/x-python",
   "name": "python",
   "nbconvert_exporter": "python",
   "pygments_lexer": "ipython3",
   "version": "3.8.5"
  }
 },
 "nbformat": 4,
 "nbformat_minor": 4
}
